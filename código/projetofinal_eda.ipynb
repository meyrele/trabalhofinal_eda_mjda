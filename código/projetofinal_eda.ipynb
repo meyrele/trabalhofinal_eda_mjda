{
  "nbformat": 4,
  "nbformat_minor": 0,
  "metadata": {
    "colab": {
      "name": "projetofinal_eda.ipynb",
      "provenance": [],
      "authorship_tag": "ABX9TyN0VfL5dJoI0gNRqzfldF8Z",
      "include_colab_link": true
    },
    "kernelspec": {
      "name": "python3",
      "display_name": "Python 3"
    },
    "language_info": {
      "name": "python"
    }
  },
  "cells": [
    {
      "cell_type": "markdown",
      "metadata": {
        "id": "view-in-github",
        "colab_type": "text"
      },
      "source": [
        "<a href=\"https://colab.research.google.com/github/biamuniz/trabalhofinal_eda_mjda/blob/main/projetofinal_eda.ipynb\" target=\"_parent\"><img src=\"https://colab.research.google.com/assets/colab-badge.svg\" alt=\"Open In Colab\"/></a>"
      ]
    },
    {
      "cell_type": "markdown",
      "metadata": {
        "id": "7Oaryfz9dPa_"
      },
      "source": [
        "# **<center> Análise Bivariada: Sexo x Idade </center>**"
      ]
    },
    {
      "cell_type": "code",
      "metadata": {
        "id": "w9xI2sHb_MhC"
      },
      "source": [
        "import pandas as pd\n",
        "dados = pd.read_csv(r'microdados_limpo.csv', sep=';')\n",
        "dados.head()"
      ],
      "execution_count": 20,
      "outputs": []
    },
    {
      "cell_type": "markdown",
      "metadata": {
        "id": "6tjexqYzeoat"
      },
      "source": [
        "### Quantidade de registros, média, mediana, valores mínimo e máximo para cada sexo"
      ]
    },
    {
      "cell_type": "code",
      "metadata": {
        "colab": {
          "base_uri": "https://localhost:8080/"
        },
        "id": "9oDqGTe9dK2S",
        "outputId": "23be5c25-8944-4186-8f10-d4aeb1609576"
      },
      "source": [
        "# criando a tabela \"est_idade_sexo\", a partir de uma tabela dinâmica\n",
        "unused_columns = dados.columns.difference(set(['sexo']).union(set([])).union(set({'idade'})))\n",
        "tmp_df = dados.drop(unused_columns, axis=1)\n",
        "tab_dinamica_b = tmp_df.pivot_table(\n",
        "    index=['sexo'],\n",
        "    values=['idade'],\n",
        "  aggfunc={'idade': ['mean', 'median', 'min', 'max', 'count']}) #media, mediana, valor mínimo e máximo para cada sexo\n",
        "est_idade_sexo = tab_dinamica_b.reset_index()\n",
        "print(est_idade_sexo)"
      ],
      "execution_count": 53,
      "outputs": [
        {
          "output_type": "stream",
          "name": "stdout",
          "text": [
            "  sexo   idade                              \n",
            "         count   max       mean median   min\n",
            "0    F   48893  74.0  24.431902   24.0  11.0\n",
            "1    M  133941  97.0  26.295608   25.0  10.0\n"
          ]
        }
      ]
    },
    {
      "cell_type": "markdown",
      "metadata": {
        "id": "8GN709Jse9i3"
      },
      "source": [
        "### Moda"
      ]
    },
    {
      "cell_type": "code",
      "metadata": {
        "id": "Ulm92UPGVQ6f"
      },
      "source": [
        "# criando a tabela \"contagem_sexo\", a partir de uma tabela dinâmica\n",
        "unused_columns = dados.columns.difference(set(['idade']).union(set(['sexo'])).union(set({'sexo'})))\n",
        "tmp_df = dados.drop(unused_columns, axis=1)\n",
        "tab_dinamica_a = tmp_df.pivot_table(\n",
        "    index=['idade'],\n",
        "    columns=['sexo'],\n",
        "    values=['sexo'],\n",
        "    aggfunc={'sexo': ['count']})  #### contar a quantidade de registros para cada sexo\n",
        "contagem_sexo = tab_dinamica_a.reset_index()"
      ],
      "execution_count": 51,
      "outputs": []
    },
    {
      "cell_type": "code",
      "metadata": {
        "colab": {
          "base_uri": "https://localhost:8080/"
        },
        "id": "UDUyRbr4f9Vs",
        "outputId": "875a3aee-598a-4804-bc4f-fb39dba9c8f7"
      },
      "source": [
        "print(contagem_sexo)"
      ],
      "execution_count": 58,
      "outputs": [
        {
          "output_type": "stream",
          "name": "stdout",
          "text": [
            "     idade   sexo      \n",
            "            count      \n",
            "sexo            F     M\n",
            "0     10.0    NaN   1.0\n",
            "1     11.0    9.0   1.0\n",
            "2     12.0   21.0   6.0\n",
            "3     13.0   75.0  25.0\n",
            "4     14.0  282.0  61.0\n",
            "..     ...    ...   ...\n",
            "69    81.0    NaN   2.0\n",
            "70    84.0    NaN   1.0\n",
            "71    88.0    NaN   1.0\n",
            "72    96.0    NaN   1.0\n",
            "73    97.0    NaN   1.0\n",
            "\n",
            "[74 rows x 3 columns]\n"
          ]
        }
      ]
    },
    {
      "cell_type": "code",
      "metadata": {
        "colab": {
          "base_uri": "https://localhost:8080/"
        },
        "id": "Notr1Q_cWEJ9",
        "outputId": "74ce5ca5-a093-40f8-b247-b2056d485bac"
      },
      "source": [
        "# Qual a idade mais frequente entre competidores do sexo feminino nos jogos olímpicos?\n",
        "moda_f = contagem_sexo.sort_values(by=('sexo', 'count', 'F'), ascending=False, na_position='last') #coloca os valores de count_f em ordem descendente. O primeiro valor em f é a moda\n",
        "print(moda_f)"
      ],
      "execution_count": 68,
      "outputs": [
        {
          "output_type": "stream",
          "name": "stdout",
          "text": [
            "     idade    sexo         \n",
            "             count         \n",
            "sexo             F        M\n",
            "13    23.0  3758.0  11822.0\n",
            "14    24.0  3749.0  11487.0\n",
            "12    22.0  3747.0  10978.0\n",
            "11    21.0  3628.0   9498.0\n",
            "15    25.0  3550.0  10821.0\n",
            "..     ...     ...      ...\n",
            "69    81.0     NaN      2.0\n",
            "70    84.0     NaN      1.0\n",
            "71    88.0     NaN      1.0\n",
            "72    96.0     NaN      1.0\n",
            "73    97.0     NaN      1.0\n",
            "\n",
            "[74 rows x 3 columns]\n"
          ]
        }
      ]
    },
    {
      "cell_type": "code",
      "metadata": {
        "id": "2DqNWPrAcybx"
      },
      "source": [
        "# Qual a idade mais frequente entre competidores do sexo masculina nos jogos olímpicos?\n",
        "moda_m = contagem_sexo.sort_values(by=('sexo', 'count', 'M'), ascending=False, na_position='last')#coloca os valores de count_m em ordem descendente. O primeiro valor em m é a moda\n",
        "print(moda_m)"
      ],
      "execution_count": null,
      "outputs": []
    },
    {
      "cell_type": "markdown",
      "metadata": {
        "id": "JQ-LsgnxfDv0"
      },
      "source": [
        "### Gráfico: quantidade de registros por sexo"
      ]
    }
  ]
}