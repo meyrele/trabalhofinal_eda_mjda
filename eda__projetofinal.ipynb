{
  "nbformat": 4,
  "nbformat_minor": 0,
  "metadata": {
    "colab": {
      "name": "eda_ projetofinal.ipynb",
      "provenance": [],
      "authorship_tag": "ABX9TyNgnXgiEJdy76XQ4JTX9xWh",
      "include_colab_link": true
    },
    "kernelspec": {
      "name": "python3",
      "display_name": "Python 3"
    },
    "language_info": {
      "name": "python"
    }
  },
  "cells": [
    {
      "cell_type": "markdown",
      "metadata": {
        "id": "view-in-github",
        "colab_type": "text"
      },
      "source": [
        "<a href=\"https://colab.research.google.com/github/biamuniz/trabalhofinal_eda_mjda/blob/main/eda__projetofinal.ipynb\" target=\"_parent\"><img src=\"https://colab.research.google.com/assets/colab-badge.svg\" alt=\"Open In Colab\"/></a>"
      ]
    },
    {
      "cell_type": "markdown",
      "metadata": {
        "id": "4QLi8_yUlHaf"
      },
      "source": [
        "##<center>**Trabalho final: Análise Exploratória de Dados**</center>\n",
        "\n",
        "Grupo: Bianca Muniz, Meyrele Torres e Ricardo Grimbaun"
      ]
    },
    {
      "cell_type": "markdown",
      "metadata": {
        "id": "GbjHOohMm_iJ"
      },
      "source": [
        "## **1. Sobre a base escolhida**\n",
        "A base de dados escolhida é a de **microdados dos atletas e delegações presentes nas edições dos Jogos Olímpicos a partir de 1896**. Ela foi obtida no site do projeto [Base dos Dados](https://basedosdados.org/dataset/5b6db46a-4203-41ba-8c69-36b8653f5241), originalmente encontrada no [Kaggle](https://www.kaggle.com/heesoo37/olympic-history-data-a-thorough-analysis).\n",
        "\n"
      ]
    },
    {
      "cell_type": "markdown",
      "metadata": {
        "id": "mxHWcBYHhOLN"
      },
      "source": [
        "## **2. Análise exploratória univariada**\n",
        "Variável escolhida: `idade`"
      ]
    },
    {
      "cell_type": "code",
      "metadata": {
        "id": "5TBXn-jdhPDG"
      },
      "source": [
        "# Importando as bibliotecas\n",
        "import pandas as pd\n",
        "import csv"
      ],
      "execution_count": 29,
      "outputs": []
    },
    {
      "cell_type": "code",
      "metadata": {
        "colab": {
          "base_uri": "https://localhost:8080/"
        },
        "id": "pjRThadwobN4",
        "outputId": "78e7b33c-4c46-4441-ec76-da84ee84001c"
      },
      "source": [
        "# Carregando a base de dados\n",
        "df = pd.read_csv(r'microdados.csv', sep=';')\n",
        "print(df.describe())"
      ],
      "execution_count": 44,
      "outputs": [
        {
          "output_type": "stream",
          "name": "stdout",
          "text": [
            "                 ano      id_atleta  ...         altura           peso\n",
            "count  269718.000000  269718.000000  ...  210917.000000  208204.000000\n",
            "mean     1978.626862   68263.967381  ...     175.338953      70.699237\n",
            "std        29.747764   39026.038321  ...      10.518507      14.348346\n",
            "min      1896.000000       1.000000  ...     127.000000      25.000000\n",
            "25%      1960.000000   34654.250000  ...     168.000000      60.000000\n",
            "50%      1988.000000   68233.000000  ...     175.000000      70.000000\n",
            "75%      2002.000000  102111.000000  ...     183.000000      79.000000\n",
            "max      2016.000000  135571.000000  ...     226.000000     214.000000\n",
            "\n",
            "[8 rows x 5 columns]\n"
          ]
        }
      ]
    },
    {
      "cell_type": "markdown",
      "metadata": {
        "id": "OKwLMiVmp9x4"
      },
      "source": [
        "Note que a base a base tem dados tem aproximadamente 270 mil observações, mas este valor não é compatível com o número de registros de `altura`, de `peso` e de `idade`. Logo, isso mostra a presença de missing data.\n",
        "\n",
        "Olhando a base, podemos ver que há nomes que se repetem na coluna nome_atleta, pois um mesmo atleta pode participar de diferentes modalidades de um mesmo esporte.\n",
        "\n",
        "Para prosseguirmos com a análise da idade, limpamos a base no Excel com a finalidade de ter um registro por atleta em cada edição dos jogos, excluindo dessa maneira as colunas medalha e evento. Em seguida, removemos os valores duplicados. Salvamos o novo conjunto de dados com o nome microdados_limpo.csv, este com 189765 registros únicos.\n",
        "\n",
        "Para a análise bivariada de medalhistas de ouro e idade, retiramos os valores duplicados no excel e salvamos a base como microdados_medalhas.csv"
      ]
    },
    {
      "cell_type": "code",
      "metadata": {
        "colab": {
          "base_uri": "https://localhost:8080/",
          "height": 300
        },
        "id": "5Eu7IoXeGpcN",
        "outputId": "30b01858-3645-4433-973a-a48a329caeaa"
      },
      "source": [
        "df.describe()"
      ],
      "execution_count": 45,
      "outputs": [
        {
          "output_type": "execute_result",
          "data": {
            "text/html": [
              "<div>\n",
              "<style scoped>\n",
              "    .dataframe tbody tr th:only-of-type {\n",
              "        vertical-align: middle;\n",
              "    }\n",
              "\n",
              "    .dataframe tbody tr th {\n",
              "        vertical-align: top;\n",
              "    }\n",
              "\n",
              "    .dataframe thead th {\n",
              "        text-align: right;\n",
              "    }\n",
              "</style>\n",
              "<table border=\"1\" class=\"dataframe\">\n",
              "  <thead>\n",
              "    <tr style=\"text-align: right;\">\n",
              "      <th></th>\n",
              "      <th>ano</th>\n",
              "      <th>id_atleta</th>\n",
              "      <th>idade</th>\n",
              "      <th>altura</th>\n",
              "      <th>peso</th>\n",
              "    </tr>\n",
              "  </thead>\n",
              "  <tbody>\n",
              "    <tr>\n",
              "      <th>count</th>\n",
              "      <td>269718.000000</td>\n",
              "      <td>269718.000000</td>\n",
              "      <td>260410.000000</td>\n",
              "      <td>210917.000000</td>\n",
              "      <td>208204.000000</td>\n",
              "    </tr>\n",
              "    <tr>\n",
              "      <th>mean</th>\n",
              "      <td>1978.626862</td>\n",
              "      <td>68263.967381</td>\n",
              "      <td>25.454487</td>\n",
              "      <td>175.338953</td>\n",
              "      <td>70.699237</td>\n",
              "    </tr>\n",
              "    <tr>\n",
              "      <th>std</th>\n",
              "      <td>29.747764</td>\n",
              "      <td>39026.038321</td>\n",
              "      <td>6.163208</td>\n",
              "      <td>10.518507</td>\n",
              "      <td>14.348346</td>\n",
              "    </tr>\n",
              "    <tr>\n",
              "      <th>min</th>\n",
              "      <td>1896.000000</td>\n",
              "      <td>1.000000</td>\n",
              "      <td>10.000000</td>\n",
              "      <td>127.000000</td>\n",
              "      <td>25.000000</td>\n",
              "    </tr>\n",
              "    <tr>\n",
              "      <th>25%</th>\n",
              "      <td>1960.000000</td>\n",
              "      <td>34654.250000</td>\n",
              "      <td>21.000000</td>\n",
              "      <td>168.000000</td>\n",
              "      <td>60.000000</td>\n",
              "    </tr>\n",
              "    <tr>\n",
              "      <th>50%</th>\n",
              "      <td>1988.000000</td>\n",
              "      <td>68233.000000</td>\n",
              "      <td>24.000000</td>\n",
              "      <td>175.000000</td>\n",
              "      <td>70.000000</td>\n",
              "    </tr>\n",
              "    <tr>\n",
              "      <th>75%</th>\n",
              "      <td>2002.000000</td>\n",
              "      <td>102111.000000</td>\n",
              "      <td>28.000000</td>\n",
              "      <td>183.000000</td>\n",
              "      <td>79.000000</td>\n",
              "    </tr>\n",
              "    <tr>\n",
              "      <th>max</th>\n",
              "      <td>2016.000000</td>\n",
              "      <td>135571.000000</td>\n",
              "      <td>97.000000</td>\n",
              "      <td>226.000000</td>\n",
              "      <td>214.000000</td>\n",
              "    </tr>\n",
              "  </tbody>\n",
              "</table>\n",
              "</div>"
            ],
            "text/plain": [
              "                 ano      id_atleta  ...         altura           peso\n",
              "count  269718.000000  269718.000000  ...  210917.000000  208204.000000\n",
              "mean     1978.626862   68263.967381  ...     175.338953      70.699237\n",
              "std        29.747764   39026.038321  ...      10.518507      14.348346\n",
              "min      1896.000000       1.000000  ...     127.000000      25.000000\n",
              "25%      1960.000000   34654.250000  ...     168.000000      60.000000\n",
              "50%      1988.000000   68233.000000  ...     175.000000      70.000000\n",
              "75%      2002.000000  102111.000000  ...     183.000000      79.000000\n",
              "max      2016.000000  135571.000000  ...     226.000000     214.000000\n",
              "\n",
              "[8 rows x 5 columns]"
            ]
          },
          "metadata": {},
          "execution_count": 45
        }
      ]
    },
    {
      "cell_type": "code",
      "metadata": {
        "colab": {
          "base_uri": "https://localhost:8080/",
          "height": 424
        },
        "id": "ze7d8gJ_qhzT",
        "outputId": "5d244a3d-3f54-493b-fe60-91cee7fbd2e8"
      },
      "source": [
        "df"
      ],
      "execution_count": 31,
      "outputs": [
        {
          "output_type": "execute_result",
          "data": {
            "text/html": [
              "<div>\n",
              "<style scoped>\n",
              "    .dataframe tbody tr th:only-of-type {\n",
              "        vertical-align: middle;\n",
              "    }\n",
              "\n",
              "    .dataframe tbody tr th {\n",
              "        vertical-align: top;\n",
              "    }\n",
              "\n",
              "    .dataframe thead th {\n",
              "        text-align: right;\n",
              "    }\n",
              "</style>\n",
              "<table border=\"1\" class=\"dataframe\">\n",
              "  <thead>\n",
              "    <tr style=\"text-align: right;\">\n",
              "      <th></th>\n",
              "      <th>ano</th>\n",
              "      <th>edicao</th>\n",
              "      <th>cidade_sede</th>\n",
              "      <th>pais</th>\n",
              "      <th>delegacao</th>\n",
              "      <th>equipe</th>\n",
              "      <th>id_atleta</th>\n",
              "      <th>nome_atleta</th>\n",
              "      <th>sexo</th>\n",
              "      <th>idade</th>\n",
              "      <th>altura</th>\n",
              "      <th>peso</th>\n",
              "      <th>esporte</th>\n",
              "      <th>medalha</th>\n",
              "    </tr>\n",
              "  </thead>\n",
              "  <tbody>\n",
              "    <tr>\n",
              "      <th>0</th>\n",
              "      <td>1896</td>\n",
              "      <td>Summer</td>\n",
              "      <td>Athina</td>\n",
              "      <td>Australia</td>\n",
              "      <td>AUS</td>\n",
              "      <td>Australia/Great Britain</td>\n",
              "      <td>35698</td>\n",
              "      <td>Edwin Harold \"Teddy\" Flack</td>\n",
              "      <td>M</td>\n",
              "      <td>22.0</td>\n",
              "      <td>NaN</td>\n",
              "      <td>NaN</td>\n",
              "      <td>Tennis</td>\n",
              "      <td>Bronze</td>\n",
              "    </tr>\n",
              "    <tr>\n",
              "      <th>1</th>\n",
              "      <td>1896</td>\n",
              "      <td>Summer</td>\n",
              "      <td>Athina</td>\n",
              "      <td>Austria</td>\n",
              "      <td>AUT</td>\n",
              "      <td>Austria</td>\n",
              "      <td>107006</td>\n",
              "      <td>Felix Adolf Schmal</td>\n",
              "      <td>M</td>\n",
              "      <td>23.0</td>\n",
              "      <td>NaN</td>\n",
              "      <td>NaN</td>\n",
              "      <td>Cycling</td>\n",
              "      <td>Bronze</td>\n",
              "    </tr>\n",
              "    <tr>\n",
              "      <th>2</th>\n",
              "      <td>1896</td>\n",
              "      <td>Summer</td>\n",
              "      <td>Athina</td>\n",
              "      <td>Denmark</td>\n",
              "      <td>DEN</td>\n",
              "      <td>Denmark</td>\n",
              "      <td>54456</td>\n",
              "      <td>Alexander Viggo Jensen</td>\n",
              "      <td>M</td>\n",
              "      <td>21.0</td>\n",
              "      <td>NaN</td>\n",
              "      <td>NaN</td>\n",
              "      <td>Shooting</td>\n",
              "      <td>Bronze</td>\n",
              "    </tr>\n",
              "    <tr>\n",
              "      <th>3</th>\n",
              "      <td>1896</td>\n",
              "      <td>Summer</td>\n",
              "      <td>Athina</td>\n",
              "      <td>Denmark</td>\n",
              "      <td>DEN</td>\n",
              "      <td>Denmark</td>\n",
              "      <td>85988</td>\n",
              "      <td>Holger Louis Nielsen</td>\n",
              "      <td>M</td>\n",
              "      <td>29.0</td>\n",
              "      <td>NaN</td>\n",
              "      <td>NaN</td>\n",
              "      <td>Fencing</td>\n",
              "      <td>Bronze</td>\n",
              "    </tr>\n",
              "    <tr>\n",
              "      <th>4</th>\n",
              "      <td>1896</td>\n",
              "      <td>Summer</td>\n",
              "      <td>Athina</td>\n",
              "      <td>Denmark</td>\n",
              "      <td>DEN</td>\n",
              "      <td>Denmark</td>\n",
              "      <td>85988</td>\n",
              "      <td>Holger Louis Nielsen</td>\n",
              "      <td>M</td>\n",
              "      <td>29.0</td>\n",
              "      <td>NaN</td>\n",
              "      <td>NaN</td>\n",
              "      <td>Shooting</td>\n",
              "      <td>Bronze</td>\n",
              "    </tr>\n",
              "    <tr>\n",
              "      <th>...</th>\n",
              "      <td>...</td>\n",
              "      <td>...</td>\n",
              "      <td>...</td>\n",
              "      <td>...</td>\n",
              "      <td>...</td>\n",
              "      <td>...</td>\n",
              "      <td>...</td>\n",
              "      <td>...</td>\n",
              "      <td>...</td>\n",
              "      <td>...</td>\n",
              "      <td>...</td>\n",
              "      <td>...</td>\n",
              "      <td>...</td>\n",
              "      <td>...</td>\n",
              "    </tr>\n",
              "    <tr>\n",
              "      <th>200329</th>\n",
              "      <td>2016</td>\n",
              "      <td>Summer</td>\n",
              "      <td>Rio de Janeiro</td>\n",
              "      <td>NaN</td>\n",
              "      <td>SGP</td>\n",
              "      <td>Singapore</td>\n",
              "      <td>132986</td>\n",
              "      <td>Yin Yue \"Elizabeth\" Yin</td>\n",
              "      <td>F</td>\n",
              "      <td>24.0</td>\n",
              "      <td>167.0</td>\n",
              "      <td>70.0</td>\n",
              "      <td>Sailing</td>\n",
              "      <td>No_medal</td>\n",
              "    </tr>\n",
              "    <tr>\n",
              "      <th>200330</th>\n",
              "      <td>2016</td>\n",
              "      <td>Summer</td>\n",
              "      <td>Rio de Janeiro</td>\n",
              "      <td>NaN</td>\n",
              "      <td>SGP</td>\n",
              "      <td>Singapore</td>\n",
              "      <td>133071</td>\n",
              "      <td>Pei Lin \"Audrey\" Yong</td>\n",
              "      <td>F</td>\n",
              "      <td>21.0</td>\n",
              "      <td>156.0</td>\n",
              "      <td>50.0</td>\n",
              "      <td>Sailing</td>\n",
              "      <td>No_medal</td>\n",
              "    </tr>\n",
              "    <tr>\n",
              "      <th>200331</th>\n",
              "      <td>2016</td>\n",
              "      <td>Summer</td>\n",
              "      <td>Rio de Janeiro</td>\n",
              "      <td>NaN</td>\n",
              "      <td>SGP</td>\n",
              "      <td>Singapore</td>\n",
              "      <td>133346</td>\n",
              "      <td>Yu Mengyu</td>\n",
              "      <td>F</td>\n",
              "      <td>26.0</td>\n",
              "      <td>166.0</td>\n",
              "      <td>50.0</td>\n",
              "      <td>Table Tennis</td>\n",
              "      <td>No_medal</td>\n",
              "    </tr>\n",
              "    <tr>\n",
              "      <th>200332</th>\n",
              "      <td>2016</td>\n",
              "      <td>Summer</td>\n",
              "      <td>Rio de Janeiro</td>\n",
              "      <td>NaN</td>\n",
              "      <td>SGP</td>\n",
              "      <td>Singapore</td>\n",
              "      <td>134826</td>\n",
              "      <td>Zhou Yihan</td>\n",
              "      <td>F</td>\n",
              "      <td>22.0</td>\n",
              "      <td>168.0</td>\n",
              "      <td>54.0</td>\n",
              "      <td>Table Tennis</td>\n",
              "      <td>No_medal</td>\n",
              "    </tr>\n",
              "    <tr>\n",
              "      <th>200333</th>\n",
              "      <td>2016</td>\n",
              "      <td>Summer</td>\n",
              "      <td>Rio de Janeiro</td>\n",
              "      <td>NaN</td>\n",
              "      <td>TUV</td>\n",
              "      <td>Tuvalu</td>\n",
              "      <td>120422</td>\n",
              "      <td>Etimoni Timuani</td>\n",
              "      <td>M</td>\n",
              "      <td>24.0</td>\n",
              "      <td>184.0</td>\n",
              "      <td>72.0</td>\n",
              "      <td>Athletics</td>\n",
              "      <td>No_medal</td>\n",
              "    </tr>\n",
              "  </tbody>\n",
              "</table>\n",
              "<p>200334 rows × 14 columns</p>\n",
              "</div>"
            ],
            "text/plain": [
              "         ano  edicao     cidade_sede  ...  peso       esporte   medalha\n",
              "0       1896  Summer          Athina  ...   NaN        Tennis    Bronze\n",
              "1       1896  Summer          Athina  ...   NaN       Cycling    Bronze\n",
              "2       1896  Summer          Athina  ...   NaN      Shooting    Bronze\n",
              "3       1896  Summer          Athina  ...   NaN       Fencing    Bronze\n",
              "4       1896  Summer          Athina  ...   NaN      Shooting    Bronze\n",
              "...      ...     ...             ...  ...   ...           ...       ...\n",
              "200329  2016  Summer  Rio de Janeiro  ...  70.0       Sailing  No_medal\n",
              "200330  2016  Summer  Rio de Janeiro  ...  50.0       Sailing  No_medal\n",
              "200331  2016  Summer  Rio de Janeiro  ...  50.0  Table Tennis  No_medal\n",
              "200332  2016  Summer  Rio de Janeiro  ...  54.0  Table Tennis  No_medal\n",
              "200333  2016  Summer  Rio de Janeiro  ...  72.0     Athletics  No_medal\n",
              "\n",
              "[200334 rows x 14 columns]"
            ]
          },
          "metadata": {},
          "execution_count": 31
        }
      ]
    },
    {
      "cell_type": "code",
      "metadata": {
        "id": "rJIDVCqLhOzr"
      },
      "source": [
        "dados_limpo = pd.read_csv(r'microdados_limpo.csv', sep=';')\n",
        "dados_medalhas = pd.read_csv(r'microdados_medalhas.csv', sep=';')"
      ],
      "execution_count": 32,
      "outputs": []
    },
    {
      "cell_type": "code",
      "metadata": {
        "id": "MoOE8jYhhZEU",
        "colab": {
          "base_uri": "https://localhost:8080/",
          "height": 424
        },
        "outputId": "45ff03dc-a12a-46c5-dab6-465a48d492df"
      },
      "source": [
        "dados_limpo.select_dtypes(include=['number']) #incluindo um NaN nos dados ausentes\n",
        "dados_medalhas.select_dtypes(include=['number'])#incluindo um NaN nos dados ausentes"
      ],
      "execution_count": 33,
      "outputs": [
        {
          "output_type": "execute_result",
          "data": {
            "text/html": [
              "<div>\n",
              "<style scoped>\n",
              "    .dataframe tbody tr th:only-of-type {\n",
              "        vertical-align: middle;\n",
              "    }\n",
              "\n",
              "    .dataframe tbody tr th {\n",
              "        vertical-align: top;\n",
              "    }\n",
              "\n",
              "    .dataframe thead th {\n",
              "        text-align: right;\n",
              "    }\n",
              "</style>\n",
              "<table border=\"1\" class=\"dataframe\">\n",
              "  <thead>\n",
              "    <tr style=\"text-align: right;\">\n",
              "      <th></th>\n",
              "      <th>ano</th>\n",
              "      <th>id_atleta</th>\n",
              "      <th>idade</th>\n",
              "      <th>altura</th>\n",
              "      <th>peso</th>\n",
              "    </tr>\n",
              "  </thead>\n",
              "  <tbody>\n",
              "    <tr>\n",
              "      <th>0</th>\n",
              "      <td>1896</td>\n",
              "      <td>35698</td>\n",
              "      <td>22.0</td>\n",
              "      <td>NaN</td>\n",
              "      <td>NaN</td>\n",
              "    </tr>\n",
              "    <tr>\n",
              "      <th>1</th>\n",
              "      <td>1896</td>\n",
              "      <td>107006</td>\n",
              "      <td>23.0</td>\n",
              "      <td>NaN</td>\n",
              "      <td>NaN</td>\n",
              "    </tr>\n",
              "    <tr>\n",
              "      <th>2</th>\n",
              "      <td>1896</td>\n",
              "      <td>54456</td>\n",
              "      <td>21.0</td>\n",
              "      <td>NaN</td>\n",
              "      <td>NaN</td>\n",
              "    </tr>\n",
              "    <tr>\n",
              "      <th>3</th>\n",
              "      <td>1896</td>\n",
              "      <td>85988</td>\n",
              "      <td>29.0</td>\n",
              "      <td>NaN</td>\n",
              "      <td>NaN</td>\n",
              "    </tr>\n",
              "    <tr>\n",
              "      <th>4</th>\n",
              "      <td>1896</td>\n",
              "      <td>85988</td>\n",
              "      <td>29.0</td>\n",
              "      <td>NaN</td>\n",
              "      <td>NaN</td>\n",
              "    </tr>\n",
              "    <tr>\n",
              "      <th>...</th>\n",
              "      <td>...</td>\n",
              "      <td>...</td>\n",
              "      <td>...</td>\n",
              "      <td>...</td>\n",
              "      <td>...</td>\n",
              "    </tr>\n",
              "    <tr>\n",
              "      <th>200329</th>\n",
              "      <td>2016</td>\n",
              "      <td>132986</td>\n",
              "      <td>24.0</td>\n",
              "      <td>167.0</td>\n",
              "      <td>70.0</td>\n",
              "    </tr>\n",
              "    <tr>\n",
              "      <th>200330</th>\n",
              "      <td>2016</td>\n",
              "      <td>133071</td>\n",
              "      <td>21.0</td>\n",
              "      <td>156.0</td>\n",
              "      <td>50.0</td>\n",
              "    </tr>\n",
              "    <tr>\n",
              "      <th>200331</th>\n",
              "      <td>2016</td>\n",
              "      <td>133346</td>\n",
              "      <td>26.0</td>\n",
              "      <td>166.0</td>\n",
              "      <td>50.0</td>\n",
              "    </tr>\n",
              "    <tr>\n",
              "      <th>200332</th>\n",
              "      <td>2016</td>\n",
              "      <td>134826</td>\n",
              "      <td>22.0</td>\n",
              "      <td>168.0</td>\n",
              "      <td>54.0</td>\n",
              "    </tr>\n",
              "    <tr>\n",
              "      <th>200333</th>\n",
              "      <td>2016</td>\n",
              "      <td>120422</td>\n",
              "      <td>24.0</td>\n",
              "      <td>184.0</td>\n",
              "      <td>72.0</td>\n",
              "    </tr>\n",
              "  </tbody>\n",
              "</table>\n",
              "<p>200334 rows × 5 columns</p>\n",
              "</div>"
            ],
            "text/plain": [
              "         ano  id_atleta  idade  altura  peso\n",
              "0       1896      35698   22.0     NaN   NaN\n",
              "1       1896     107006   23.0     NaN   NaN\n",
              "2       1896      54456   21.0     NaN   NaN\n",
              "3       1896      85988   29.0     NaN   NaN\n",
              "4       1896      85988   29.0     NaN   NaN\n",
              "...      ...        ...    ...     ...   ...\n",
              "200329  2016     132986   24.0   167.0  70.0\n",
              "200330  2016     133071   21.0   156.0  50.0\n",
              "200331  2016     133346   26.0   166.0  50.0\n",
              "200332  2016     134826   22.0   168.0  54.0\n",
              "200333  2016     120422   24.0   184.0  72.0\n",
              "\n",
              "[200334 rows x 5 columns]"
            ]
          },
          "metadata": {},
          "execution_count": 33
        }
      ]
    },
    {
      "cell_type": "code",
      "metadata": {
        "id": "USUIGzRphe5F",
        "colab": {
          "base_uri": "https://localhost:8080/"
        },
        "outputId": "0c20ba22-5199-48da-e21b-3314965425a4"
      },
      "source": [
        "# Análise descritiva da variável idade\n",
        "dados_limpo['idade'].describe()"
      ],
      "execution_count": 34,
      "outputs": [
        {
          "output_type": "execute_result",
          "data": {
            "text/plain": [
              "count    182834.000000\n",
              "mean         25.797220\n",
              "std           6.104385\n",
              "min          10.000000\n",
              "25%          22.000000\n",
              "50%          25.000000\n",
              "75%          29.000000\n",
              "max          97.000000\n",
              "Name: idade, dtype: float64"
            ]
          },
          "metadata": {},
          "execution_count": 34
        }
      ]
    },
    {
      "cell_type": "markdown",
      "metadata": {
        "id": "7Oaryfz9dPa_"
      },
      "source": [
        "## **3. Análise exploratória bivariada**\n",
        "Variáveis escolhidas: `idade` e `sexo`; `idade` e `medalha de ouro`"
      ]
    },
    {
      "cell_type": "markdown",
      "metadata": {
        "id": "DA6evzMtmky1"
      },
      "source": [
        "### **3.1 Idade X sexo**"
      ]
    },
    {
      "cell_type": "markdown",
      "metadata": {
        "id": "6tjexqYzeoat"
      },
      "source": [
        "### Quantidade de registros, média, mediana, valores mínimo e máximo para cada sexo"
      ]
    },
    {
      "cell_type": "code",
      "metadata": {
        "id": "9QEtVDijjmes",
        "colab": {
          "base_uri": "https://localhost:8080/"
        },
        "outputId": "6545aec1-a4ef-48cd-e7ff-3b5474692ced"
      },
      "source": [
        "# Estatísticas para o sexo feminino\n",
        "feminino = dados_limpo[\"idade\"].loc[dados_limpo['sexo'] == 'F']\n",
        "feminino.describe()"
      ],
      "execution_count": 35,
      "outputs": [
        {
          "output_type": "execute_result",
          "data": {
            "text/plain": [
              "count    48893.000000\n",
              "mean        24.431902\n",
              "std          5.611215\n",
              "min         11.000000\n",
              "25%         21.000000\n",
              "50%         24.000000\n",
              "75%         28.000000\n",
              "max         74.000000\n",
              "Name: idade, dtype: float64"
            ]
          },
          "metadata": {},
          "execution_count": 35
        }
      ]
    },
    {
      "cell_type": "code",
      "metadata": {
        "id": "-UpszXiXkCib",
        "colab": {
          "base_uri": "https://localhost:8080/"
        },
        "outputId": "7b36bc8e-202c-44dc-8f07-b6efb1b880f9"
      },
      "source": [
        "# Estatísticas para o sexo masculino\n",
        "masculino = dados_limpo[\"idade\"].loc[dados_limpo['sexo'] == 'M']\n",
        "masculino.describe()"
      ],
      "execution_count": 36,
      "outputs": [
        {
          "output_type": "execute_result",
          "data": {
            "text/plain": [
              "count    133941.000000\n",
              "mean         26.295608\n",
              "std           6.200323\n",
              "min          10.000000\n",
              "25%          22.000000\n",
              "50%          25.000000\n",
              "75%          29.000000\n",
              "max          97.000000\n",
              "Name: idade, dtype: float64"
            ]
          },
          "metadata": {},
          "execution_count": 36
        }
      ]
    },
    {
      "cell_type": "code",
      "metadata": {
        "id": "9oDqGTe9dK2S",
        "colab": {
          "base_uri": "https://localhost:8080/"
        },
        "outputId": "1e74f9af-df92-408f-b35f-7a2e56133a0b"
      },
      "source": [
        "# criando a tabela \"est_idade_sexo\", a partir de uma tabela dinâmica, comparando os resultados para os dois sexos\n",
        "unused_columns = dados_limpo.columns.difference(set(['sexo']).union(set([])).union(set({'idade'})))\n",
        "tmp_df = dados_limpo.drop(unused_columns, axis=1)\n",
        "tab_dinamica_b = tmp_df.pivot_table(\n",
        "    index=['sexo'],\n",
        "    values=['idade'],\n",
        "  aggfunc={'idade': ['mean', 'median', 'min', 'max', 'count']}) #media, mediana, valor mínimo e máximo para cada sexo\n",
        "est_idade_sexo = tab_dinamica_b.reset_index()\n",
        "print(est_idade_sexo)"
      ],
      "execution_count": 37,
      "outputs": [
        {
          "output_type": "stream",
          "name": "stdout",
          "text": [
            "  sexo   idade                              \n",
            "         count   max       mean median   min\n",
            "0    F   48893  74.0  24.431902   24.0  11.0\n",
            "1    M  133941  97.0  26.295608   25.0  10.0\n"
          ]
        }
      ]
    },
    {
      "cell_type": "markdown",
      "metadata": {
        "id": "8GN709Jse9i3"
      },
      "source": [
        "### Moda"
      ]
    },
    {
      "cell_type": "code",
      "metadata": {
        "id": "Ulm92UPGVQ6f"
      },
      "source": [
        "# criando a tabela \"contagem_sexo\", a partir de uma tabela dinâmica\n",
        "unused_columns = dados_limpo.columns.difference(set(['idade']).union(set(['sexo'])).union(set({'sexo'})))\n",
        "tmp_df = dados_limpo.drop(unused_columns, axis=1)\n",
        "tab_dinamica_a = tmp_df.pivot_table(\n",
        "    index=['idade'],\n",
        "    columns=['sexo'],\n",
        "    values=['sexo'],\n",
        "    aggfunc={'sexo': ['count']})  #### contar a quantidade de registros para cada sexo\n",
        "contagem_sexo = tab_dinamica_a.reset_index()"
      ],
      "execution_count": 38,
      "outputs": []
    },
    {
      "cell_type": "code",
      "metadata": {
        "id": "UDUyRbr4f9Vs",
        "colab": {
          "base_uri": "https://localhost:8080/"
        },
        "outputId": "a61b2f03-2cd3-4aa4-cd5c-37b952fae2fb"
      },
      "source": [
        "print(contagem_sexo)"
      ],
      "execution_count": 39,
      "outputs": [
        {
          "output_type": "stream",
          "name": "stdout",
          "text": [
            "     idade   sexo      \n",
            "            count      \n",
            "sexo            F     M\n",
            "0     10.0    NaN   1.0\n",
            "1     11.0    9.0   1.0\n",
            "2     12.0   21.0   6.0\n",
            "3     13.0   75.0  25.0\n",
            "4     14.0  282.0  61.0\n",
            "..     ...    ...   ...\n",
            "69    81.0    NaN   2.0\n",
            "70    84.0    NaN   1.0\n",
            "71    88.0    NaN   1.0\n",
            "72    96.0    NaN   1.0\n",
            "73    97.0    NaN   1.0\n",
            "\n",
            "[74 rows x 3 columns]\n"
          ]
        }
      ]
    },
    {
      "cell_type": "code",
      "metadata": {
        "id": "Notr1Q_cWEJ9",
        "colab": {
          "base_uri": "https://localhost:8080/"
        },
        "outputId": "3ce004fd-6861-4796-97fb-0bf735f3d082"
      },
      "source": [
        "# Qual a idade mais frequente entre competidores do sexo feminino nos jogos olímpicos?\n",
        "moda_f = contagem_sexo.sort_values(by=('sexo', 'count', 'F'), ascending=False, na_position='last') #coloca os valores de count_f em ordem descendente. O primeiro valor em f é a moda\n",
        "print(moda_f) #o primeiro valor é o valor mais frequente"
      ],
      "execution_count": 40,
      "outputs": [
        {
          "output_type": "stream",
          "name": "stdout",
          "text": [
            "     idade    sexo         \n",
            "             count         \n",
            "sexo             F        M\n",
            "13    23.0  3758.0  11822.0\n",
            "14    24.0  3749.0  11487.0\n",
            "12    22.0  3747.0  10978.0\n",
            "11    21.0  3628.0   9498.0\n",
            "15    25.0  3550.0  10821.0\n",
            "..     ...     ...      ...\n",
            "69    81.0     NaN      2.0\n",
            "70    84.0     NaN      1.0\n",
            "71    88.0     NaN      1.0\n",
            "72    96.0     NaN      1.0\n",
            "73    97.0     NaN      1.0\n",
            "\n",
            "[74 rows x 3 columns]\n"
          ]
        }
      ]
    },
    {
      "cell_type": "code",
      "metadata": {
        "id": "2DqNWPrAcybx",
        "colab": {
          "base_uri": "https://localhost:8080/"
        },
        "outputId": "0bf8e47c-8c56-43fe-cd02-57940d1f69e5"
      },
      "source": [
        "# Qual a idade mais frequente entre competidores do sexo masculina nos jogos olímpicos?\n",
        "moda_m = contagem_sexo.sort_values(by=('sexo', 'count', 'M'), ascending=False, na_position='last')#coloca os valores de count_m em ordem descendente. O primeiro valor em m é a moda\n",
        "print(moda_m) #o primeiro valor é o valor mais frequente"
      ],
      "execution_count": 41,
      "outputs": [
        {
          "output_type": "stream",
          "name": "stdout",
          "text": [
            "     idade    sexo         \n",
            "             count         \n",
            "sexo             F        M\n",
            "13    23.0  3758.0  11822.0\n",
            "14    24.0  3749.0  11487.0\n",
            "12    22.0  3747.0  10978.0\n",
            "15    25.0  3550.0  10821.0\n",
            "16    26.0  3214.0   9883.0\n",
            "..     ...     ...      ...\n",
            "0     10.0     NaN      1.0\n",
            "68    80.0     NaN      1.0\n",
            "67    77.0     NaN      1.0\n",
            "1     11.0     9.0      1.0\n",
            "73    97.0     NaN      1.0\n",
            "\n",
            "[74 rows x 3 columns]\n"
          ]
        }
      ]
    },
    {
      "cell_type": "markdown",
      "metadata": {
        "id": "0vDljr4Lmutw"
      },
      "source": [
        "### **3.2 Idade X Modalidade**"
      ]
    },
    {
      "cell_type": "markdown",
      "metadata": {
        "id": "uFEa_y6ltwFx"
      },
      "source": [
        "Analisamos também o perfil dos ganhadores das medalhas de ouro, usando a função .loc, que permite recortar linhas da tabela\n"
      ]
    },
    {
      "cell_type": "code",
      "metadata": {
        "id": "fQ_m3FYYhmUo",
        "colab": {
          "base_uri": "https://localhost:8080/",
          "height": 300
        },
        "outputId": "8181a968-e196-4e78-8ce4-61d62f3e5c23"
      },
      "source": [
        "ouro = dados_medalhas.loc[dados_medalhas['medalha'] == 'Gold']\n",
        "ouro.describe()"
      ],
      "execution_count": 42,
      "outputs": [
        {
          "output_type": "execute_result",
          "data": {
            "text/html": [
              "<div>\n",
              "<style scoped>\n",
              "    .dataframe tbody tr th:only-of-type {\n",
              "        vertical-align: middle;\n",
              "    }\n",
              "\n",
              "    .dataframe tbody tr th {\n",
              "        vertical-align: top;\n",
              "    }\n",
              "\n",
              "    .dataframe thead th {\n",
              "        text-align: right;\n",
              "    }\n",
              "</style>\n",
              "<table border=\"1\" class=\"dataframe\">\n",
              "  <thead>\n",
              "    <tr style=\"text-align: right;\">\n",
              "      <th></th>\n",
              "      <th>ano</th>\n",
              "      <th>id_atleta</th>\n",
              "      <th>idade</th>\n",
              "      <th>altura</th>\n",
              "      <th>peso</th>\n",
              "    </tr>\n",
              "  </thead>\n",
              "  <tbody>\n",
              "    <tr>\n",
              "      <th>count</th>\n",
              "      <td>12228.000000</td>\n",
              "      <td>12228.000000</td>\n",
              "      <td>12094.000000</td>\n",
              "      <td>9625.000000</td>\n",
              "      <td>9388.000000</td>\n",
              "    </tr>\n",
              "    <tr>\n",
              "      <th>mean</th>\n",
              "      <td>1973.617926</td>\n",
              "      <td>69433.871933</td>\n",
              "      <td>25.999835</td>\n",
              "      <td>178.067221</td>\n",
              "      <td>74.626225</td>\n",
              "    </tr>\n",
              "    <tr>\n",
              "      <th>std</th>\n",
              "      <td>33.964288</td>\n",
              "      <td>39049.802106</td>\n",
              "      <td>5.846941</td>\n",
              "      <td>11.061828</td>\n",
              "      <td>15.327188</td>\n",
              "    </tr>\n",
              "    <tr>\n",
              "      <th>min</th>\n",
              "      <td>1896.000000</td>\n",
              "      <td>4.000000</td>\n",
              "      <td>13.000000</td>\n",
              "      <td>136.000000</td>\n",
              "      <td>28.000000</td>\n",
              "    </tr>\n",
              "    <tr>\n",
              "      <th>25%</th>\n",
              "      <td>1952.000000</td>\n",
              "      <td>36220.750000</td>\n",
              "      <td>22.000000</td>\n",
              "      <td>170.000000</td>\n",
              "      <td>64.000000</td>\n",
              "    </tr>\n",
              "    <tr>\n",
              "      <th>50%</th>\n",
              "      <td>1984.000000</td>\n",
              "      <td>69281.500000</td>\n",
              "      <td>25.000000</td>\n",
              "      <td>178.000000</td>\n",
              "      <td>74.000000</td>\n",
              "    </tr>\n",
              "    <tr>\n",
              "      <th>75%</th>\n",
              "      <td>2002.000000</td>\n",
              "      <td>103803.250000</td>\n",
              "      <td>29.000000</td>\n",
              "      <td>185.000000</td>\n",
              "      <td>84.000000</td>\n",
              "    </tr>\n",
              "    <tr>\n",
              "      <th>max</th>\n",
              "      <td>2016.000000</td>\n",
              "      <td>135553.000000</td>\n",
              "      <td>64.000000</td>\n",
              "      <td>223.000000</td>\n",
              "      <td>170.000000</td>\n",
              "    </tr>\n",
              "  </tbody>\n",
              "</table>\n",
              "</div>"
            ],
            "text/plain": [
              "                ano      id_atleta         idade       altura         peso\n",
              "count  12228.000000   12228.000000  12094.000000  9625.000000  9388.000000\n",
              "mean    1973.617926   69433.871933     25.999835   178.067221    74.626225\n",
              "std       33.964288   39049.802106      5.846941    11.061828    15.327188\n",
              "min     1896.000000       4.000000     13.000000   136.000000    28.000000\n",
              "25%     1952.000000   36220.750000     22.000000   170.000000    64.000000\n",
              "50%     1984.000000   69281.500000     25.000000   178.000000    74.000000\n",
              "75%     2002.000000  103803.250000     29.000000   185.000000    84.000000\n",
              "max     2016.000000  135553.000000     64.000000   223.000000   170.000000"
            ]
          },
          "metadata": {},
          "execution_count": 42
        }
      ]
    }
  ]
}