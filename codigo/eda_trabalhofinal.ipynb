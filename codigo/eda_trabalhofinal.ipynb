{
 "cells": [
  {
   "cell_type": "markdown",
   "metadata": {
    "id": "4QLi8_yUlHaf"
   },
   "source": [
    "## **Trabalho final: Análise Exploratória de Dados**\n",
    "\n",
    "Grupo: Bianca Muniz, Meyrele Torres e Ricardo Grimbaun"
   ]
  },
  {
   "cell_type": "markdown",
   "metadata": {
    "id": "mxHWcBYHhOLN"
   },
   "source": [
    "## **Análise exploratória univariada**\n",
    "Variável escolhida: `idade`"
   ]
  },
  {
   "cell_type": "code",
   "execution_count": null,
   "metadata": {
    "id": "5TBXn-jdhPDG"
   },
   "outputs": [],
   "source": [
    "# Importando as bibliotecas\n",
    "import pandas as pd #para abrir e manipular as bases\n",
    "import statistics #para o cálculo da moda\n",
    "!pip install altair #instalando a biblioteca altair\n",
    "import altair as alt #para as visualizações gráficas"
   ]
  },
  {
   "cell_type": "code",
   "execution_count": null,
   "metadata": {},
   "outputs": [],
   "source": [
    "alt.data_transformers.disable_max_rows()"
   ]
  },
  {
   "cell_type": "code",
   "execution_count": null,
   "metadata": {
    "colab": {
     "base_uri": "https://localhost:8080/"
    },
    "id": "pjRThadwobN4",
    "outputId": "1b3b16f4-3a41-4627-a098-9f98fc2b0123"
   },
   "outputs": [],
   "source": [
    "# Carregando a base de dados\n",
    "dados = pd.read_csv(r'https://raw.githubusercontent.com/biamuniz/trabalhofinal_eda_mjda/main/dados/microdados.csv', sep=';')\n",
    "\n",
    "# Visualizando a base de dados\n",
    "dados"
   ]
  },
  {
   "cell_type": "code",
   "execution_count": null,
   "metadata": {},
   "outputs": [],
   "source": [
    "# estatísticas descritivas da base\n",
    "print(dados.describe())"
   ]
  },
  {
   "cell_type": "markdown",
   "metadata": {
    "id": "OKwLMiVmp9x4"
   },
   "source": [
    "Note que a base a base tem dados tem aproximadamente 270 mil observações, mas este valor não é compatível com o número de registros de `altura`, de `peso` e de `idade`. Logo, isso mostra a presença de missing data.\n",
    "\n",
    "Olhando a base, podemos ver que há nomes que se repetem na coluna nome_atleta, pois um mesmo atleta pode participar de diferentes modalidades de um mesmo esporte.\n",
    "\n",
    "Para prosseguirmos com a análise, limpamos a base com a finalidade de ter um registro por atleta em cada edição dos jogos, excluindo dessa maneira as colunas medalha e evento. Em seguida, removemos os valores duplicados. A base ficou com 189765 registros únicos."
   ]
  },
  {
   "cell_type": "code",
   "execution_count": null,
   "metadata": {
    "colab": {
     "base_uri": "https://localhost:8080/",
     "height": 510
    },
    "id": "ze7d8gJ_qhzT",
    "outputId": "91001836-a05d-4f87-d66a-03638077a2ee"
   },
   "outputs": [],
   "source": [
    "dados_analise = dados.drop('evento', 1) # criando o dataframe 'analise_idade', que é uma cópia do 'df', sem a coluna 'evento'\n",
    "dados_analise = dados_analise.drop('medalha', 1) # excluindo a coluna 'medalha' e sobrescrevendo o dataframe 'analise_idade'\n",
    "dados_analise = dados_analise.drop_duplicates() # removendo valores duplicados"
   ]
  },
  {
   "cell_type": "code",
   "execution_count": null,
   "metadata": {},
   "outputs": [],
   "source": [
    "dados_analise"
   ]
  },
  {
   "cell_type": "code",
   "execution_count": null,
   "metadata": {
    "colab": {
     "base_uri": "https://localhost:8080/",
     "height": 424
    },
    "id": "MoOE8jYhhZEU",
    "outputId": "38b0df6c-3459-41f6-e275-fd3e920ca65f"
   },
   "outputs": [],
   "source": [
    "dados_analise.select_dtypes(include=['number']) #incluindo um NaN nos dados ausentes"
   ]
  },
  {
   "cell_type": "code",
   "execution_count": null,
   "metadata": {
    "colab": {
     "base_uri": "https://localhost:8080/"
    },
    "id": "USUIGzRphe5F",
    "outputId": "b88fc2f9-717d-46df-d27b-6196e8f9eaea"
   },
   "outputs": [],
   "source": [
    "# Análise descritiva da variável idade\n",
    "dados_analise['idade'].describe()"
   ]
  },
  {
   "cell_type": "code",
   "execution_count": null,
   "metadata": {},
   "outputs": [],
   "source": [
    "#calculando a moda\n",
    "statistics.mode(dados_analise['idade'])"
   ]
  },
  {
   "cell_type": "code",
   "execution_count": null,
   "metadata": {},
   "outputs": [],
   "source": [
    "# Gráfico: Frequência de idade\n",
    "chart1 = alt.Chart(dados_analise).mark_bar(color='firebrick').encode(\n",
    "  x='idade',\n",
    "  y='count(idade)',\n",
    ")\n",
    "chart1"
   ]
  },
  {
   "cell_type": "markdown",
   "metadata": {
    "id": "kaBBu7abkaTN"
   },
   "source": [
    "**Variável escolhida: `esporte = atletismo`**"
   ]
  },
  {
   "cell_type": "code",
   "execution_count": null,
   "metadata": {
    "colab": {
     "base_uri": "https://localhost:8080/",
     "height": 424
    },
    "id": "MoSnL122kLmq",
    "outputId": "69259080-cd1c-4efd-fc70-646cfaf6d95b"
   },
   "outputs": [],
   "source": [
    "#Limpeza da base: queremos registros únicos de cada participante por edição e esporte\n",
    "dados_esporte = dados.drop('evento', 1) # criando o dataframe 'dados_esporte', que é uma cópia de 'dados', sem a coluna 'evento'\n",
    "dados_esporte = dados_esporte.drop('medalha', 1) # excluindo a coluna 'medalha' e sobrescrevendo o dataframe 'dados_esporte'\n",
    "dados_esporte = dados_esporte.drop_duplicates() # removendo valores duplicados"
   ]
  },
  {
   "cell_type": "code",
   "execution_count": null,
   "metadata": {},
   "outputs": [],
   "source": [
    "atletismo = dados_esporte.loc[dados_esporte['esporte'] == 'Athletics']\n",
    "atletismo"
   ]
  },
  {
   "cell_type": "code",
   "execution_count": null,
   "metadata": {},
   "outputs": [],
   "source": [
    "# Estatísticas sobre os participantes que competem no atletismo\n",
    "atletismo.describe()"
   ]
  },
  {
   "cell_type": "code",
   "execution_count": null,
   "metadata": {},
   "outputs": [],
   "source": [
    "# contagem de atletas por esporte\n",
    "chart2 = alt.Chart(dados_esporte).mark_bar(color='green').encode(\n",
    "  x='esporte',\n",
    "  y='count(id_atleta)',\n",
    ")\n",
    "chart2"
   ]
  },
  {
   "cell_type": "markdown",
   "metadata": {
    "id": "7Oaryfz9dPa_"
   },
   "source": [
    "## **Análise exploratória bivariada**"
   ]
  },
  {
   "cell_type": "markdown",
   "metadata": {
    "id": "DA6evzMtmky1"
   },
   "source": [
    "**Variáveis escolhidas: `idade` e `sexo`**"
   ]
  },
  {
   "cell_type": "code",
   "execution_count": null,
   "metadata": {
    "colab": {
     "base_uri": "https://localhost:8080/"
    },
    "id": "9QEtVDijjmes",
    "outputId": "bb29ee89-df5e-41bf-bda8-d674754c6142"
   },
   "outputs": [],
   "source": [
    "# Estatísticas de idade para o sexo feminino\n",
    "feminino = dados_analise[\"idade\"].loc[dados_analise['sexo'] == 'F']\n",
    "feminino.describe()"
   ]
  },
  {
   "cell_type": "code",
   "execution_count": null,
   "metadata": {},
   "outputs": [],
   "source": [
    "# Qual a idade mais frequente entre competidores do sexo feminino nos jogos olímpicos?\n",
    "statistics.mode(dados_analise['idade'].loc[dados_analise['sexo'] == 'F'])"
   ]
  },
  {
   "cell_type": "code",
   "execution_count": null,
   "metadata": {
    "colab": {
     "base_uri": "https://localhost:8080/"
    },
    "id": "-UpszXiXkCib",
    "outputId": "3db0a7e2-5714-46b0-be18-ac55b5cb1f93"
   },
   "outputs": [],
   "source": [
    "# Estatísticas para o sexo masculino\n",
    "masculino = dados_analise[\"idade\"].loc[dados_analise['sexo'] == 'M']\n",
    "masculino.describe()"
   ]
  },
  {
   "cell_type": "code",
   "execution_count": null,
   "metadata": {},
   "outputs": [],
   "source": [
    "# Qual a idade mais frequente entre competidores do sexo masculino nos jogos olímpicos?\n",
    "statistics.mode(dados_analise['idade'].loc[dados_analise['sexo'] == 'M'])"
   ]
  },
  {
   "cell_type": "code",
   "execution_count": null,
   "metadata": {
    "id": "9oDqGTe9dK2S"
   },
   "outputs": [],
   "source": [
    "# criando a tabela \"estatistica_idade_sexo\", a partir de uma tabela dinâmica, comparando os resultados para os dois sexos\n",
    "unused_columns = dados_analise.columns.difference(set(['sexo']).union(set([])).union(set({'idade'})))\n",
    "tmp_df = dados_analise.drop(unused_columns, axis=1)\n",
    "tab_dinamica_b = tmp_df.pivot_table(\n",
    "    index=['sexo'],\n",
    "    values=['idade'],\n",
    "  aggfunc={'idade': ['mean', 'median', 'min', 'max', 'count']}) #media, mediana, valor mínimo e máximo para cada sexo\n",
    "estatistica_idade_sexo = tab_dinamica_b.reset_index()\n",
    "estatistica_idade_sexo # visualizando o resultado"
   ]
  },
  {
   "cell_type": "code",
   "execution_count": null,
   "metadata": {},
   "outputs": [],
   "source": [
    "chart3 = alt.Chart(dados_analise).mark_bar().encode(\n",
    "    x=alt.X('sexo', axis=alt.Axis(title='sexo')),\n",
    "    y=alt.Y('mean(idade)',\n",
    "        axis=alt.Axis(title='idade')\n",
    "    ),\n",
    "    color=alt.Color('sexo:N')\n",
    ")\n",
    "chart3"
   ]
  },
  {
   "cell_type": "code",
   "execution_count": null,
   "metadata": {
    "id": "Dj8edLpZkiXH"
   },
   "outputs": [],
   "source": [
    "unused_columns = dados_analise.columns.difference(set(['ano']).union(set(['sexo'])).union(set({'id_atleta'})))\n",
    "tabela = dados_analise.drop(unused_columns, axis=1)\n",
    "pivot_table = tabela.pivot_table(\n",
    "    index=['ano'],\n",
    "    columns=['sexo'],\n",
    "    values=['id_atleta'],\n",
    "    aggfunc={'id_atleta': ['count']}\n",
    ")\n",
    "participacao = pivot_table.reset_index()\n",
    "participacao"
   ]
  },
  {
   "cell_type": "code",
   "execution_count": null,
   "metadata": {},
   "outputs": [],
   "source": [
    "# Gráfico: Participação nas Olimpíadas de acordo com o sexo\n",
    "chart4 = alt.Chart(dados_analise).mark_bar().encode(\n",
    "    x='ano',\n",
    "    y='count(id_atleta)',\n",
    "    color=alt.Color('sexo:N', scale=alt.Scale(range=[\"orange\",\"green\"]))\n",
    ")\n",
    "chart4 ### espaços em branco no gráfico = dados ausentes"
   ]
  },
  {
   "cell_type": "code",
   "execution_count": null,
   "metadata": {},
   "outputs": [],
   "source": [
    "# normalizando os dados\n",
    "chart4.mark_bar().encode(\n",
    "    x='ano',\n",
    "    y=alt.Y('count(id_atleta)', stack='normalize'),\n",
    "    opacity=alt.value(0.7)\n",
    ")"
   ]
  },
  {
   "cell_type": "markdown",
   "metadata": {
    "id": "0vDljr4Lmutw"
   },
   "source": [
    "**Variáveis escolhidas: `idade`, `peso`, `altura` e `medalha = ouro`**"
   ]
  },
  {
   "cell_type": "code",
   "execution_count": null,
   "metadata": {},
   "outputs": [],
   "source": [
    "medalha_ouro = dados.loc[dados['medalha']=='Gold']"
   ]
  },
  {
   "cell_type": "code",
   "execution_count": null,
   "metadata": {},
   "outputs": [],
   "source": [
    "medalha_ouro = medalha_ouro.drop('evento', 1)\n",
    "medalha_ouro = medalha_ouro.drop_duplicates() # removendo valores duplicados"
   ]
  },
  {
   "cell_type": "code",
   "execution_count": null,
   "metadata": {},
   "outputs": [],
   "source": [
    "medalha_ouro"
   ]
  },
  {
   "cell_type": "code",
   "execution_count": null,
   "metadata": {},
   "outputs": [],
   "source": [
    "medalha_ouro.describe() # estatísticas descritivas sobre os medalhistas de ouro"
   ]
  },
  {
   "cell_type": "code",
   "execution_count": null,
   "metadata": {},
   "outputs": [],
   "source": [
    "statistics.mode(medalha_ouro['idade'])"
   ]
  },
  {
   "cell_type": "code",
   "execution_count": null,
   "metadata": {},
   "outputs": [],
   "source": [
    "statistics.mode(medalha_ouro['peso'])"
   ]
  },
  {
   "cell_type": "code",
   "execution_count": null,
   "metadata": {},
   "outputs": [],
   "source": [
    "statistics.mode(medalha_ouro['altura'])"
   ]
  }
 ],
 "metadata": {
  "colab": {
   "name": "analise_exploratoria_final.ipynb",
   "provenance": []
  },
  "kernelspec": {
   "display_name": "Python 3",
   "language": "python",
   "name": "python3"
  },
  "language_info": {
   "codemirror_mode": {
    "name": "ipython",
    "version": 3
   },
   "file_extension": ".py",
   "mimetype": "text/x-python",
   "name": "python",
   "nbconvert_exporter": "python",
   "pygments_lexer": "ipython3",
   "version": "3.8.8"
  }
 },
 "nbformat": 4,
 "nbformat_minor": 1
}
